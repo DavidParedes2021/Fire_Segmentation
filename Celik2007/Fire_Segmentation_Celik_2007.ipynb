{
 "cells": [
  {
   "cell_type": "code",
   "execution_count": 11,
   "id": "cbd2ac40",
   "metadata": {},
   "outputs": [],
   "source": [
    "import cv2   \n",
    "import numpy as np"
   ]
  },
  {
   "cell_type": "code",
   "execution_count": 12,
   "id": "0c43cc03",
   "metadata": {},
   "outputs": [],
   "source": [
    "def generate_binary_image(img_path):\n",
    "    # Read the RGB image with OpenCV\n",
    "    img = cv2.imread(img_path)\n",
    "    \n",
    "    # Split the image into B, G, R channels\n",
    "    b, g, r = cv2.split(img)\n",
    "\n",
    "    # Calculate mean value of the red channel\n",
    "    r_mean = np.mean(r)\n",
    "\n",
    "    # Generate binary image based on the specified conditions\n",
    "    binary_img = np.zeros_like(r, dtype=np.uint8)\n",
    "    binary_img[(r > r_mean) & (r > g) & (g > b) & \n",
    "               (0.25 <= g / (r + 1)) & (g / (r + 1) <= 0.65) & \n",
    "               (0.05 <= b / (r + 1)) & (b / (r + 1) <= 0.45) & \n",
    "               (0.20 <= b / (g + 1)) & (b / (g + 1) <= 0.6)] = 255\n",
    "\n",
    "    return binary_img"
   ]
  },
  {
   "cell_type": "code",
   "execution_count": 15,
   "id": "bcc96f2e",
   "metadata": {},
   "outputs": [
    {
     "name": "stderr",
     "output_type": "stream",
     "text": [
      "C:\\Users\\david\\AppData\\Local\\Temp\\ipykernel_6456\\3378180131.py:14: RuntimeWarning: divide by zero encountered in true_divide\n",
      "  (0.25 <= g / (r + 1)) & (g / (r + 1) <= 0.65) &\n",
      "C:\\Users\\david\\AppData\\Local\\Temp\\ipykernel_6456\\3378180131.py:15: RuntimeWarning: divide by zero encountered in true_divide\n",
      "  (0.05 <= b / (r + 1)) & (b / (r + 1) <= 0.45) &\n",
      "C:\\Users\\david\\AppData\\Local\\Temp\\ipykernel_6456\\3378180131.py:16: RuntimeWarning: divide by zero encountered in true_divide\n",
      "  (0.20 <= b / (g + 1)) & (b / (g + 1) <= 0.6)] = 255\n"
     ]
    }
   ],
   "source": [
    "image_path = \"../Images/002_rgb.png\"\n",
    "bin_image = generate_binary_image(image_path)\n",
    "cv2.imshow(\"Original Image\", cv2.imread(image_path))\n",
    "cv2.imshow('Result Image', bin_image )\n",
    "cv2.waitKey(0)\n",
    "cv2.destroyAllWindows()"
   ]
  },
  {
   "cell_type": "markdown",
   "id": "276dc25f",
   "metadata": {},
   "source": [
    "# Comentarios\n"
   ]
  },
  {
   "cell_type": "markdown",
   "id": "70525c09",
   "metadata": {},
   "source": [
    "Crea estadísticas de imágenes ya segmentadas para generar 3 reglas..  16,309,070 píxeles en total.\n",
    "\n",
    "Utiliza radios para separar el contenido cromático de la intensidad, usando las imágenes etiquetadas a mano.\n",
    "\n",
    "Se asume que los píxeles pertenecientes al fuego tienen un mayor componente rojo en comparación al promedio, y eso genera falsos positivos.\n",
    "\n",
    "Los resultados se pueden mejorar con operaciones morfológicas de dilatación y erosión.[9] Rafael C. Gonzalez, Richard E. Woods, Digital Image Processing, Prentice Hall, Englewood Cliffs, NJ, 2002.\n"
   ]
  },
  {
   "cell_type": "code",
   "execution_count": null,
   "id": "8834d49d",
   "metadata": {},
   "outputs": [],
   "source": []
  }
 ],
 "metadata": {
  "kernelspec": {
   "display_name": "Python 3 (ipykernel)",
   "language": "python",
   "name": "python3"
  },
  "language_info": {
   "codemirror_mode": {
    "name": "ipython",
    "version": 3
   },
   "file_extension": ".py",
   "mimetype": "text/x-python",
   "name": "python",
   "nbconvert_exporter": "python",
   "pygments_lexer": "ipython3",
   "version": "3.9.13"
  }
 },
 "nbformat": 4,
 "nbformat_minor": 5
}
